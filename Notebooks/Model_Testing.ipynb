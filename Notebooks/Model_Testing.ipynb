{
 "cells": [
  {
   "cell_type": "code",
   "execution_count": 1,
   "id": "5b56b32a-a1a9-4533-b07b-41a229503ac4",
   "metadata": {},
   "outputs": [],
   "source": [
    "#Import libraries\n",
    "import pickle\n",
    "\n",
    "with open(\"../Models/vectorizer.pkl\", \"rb\") as f:\n",
    "    vectorizer = pickle.load(f)\n",
    "\n",
    "with open(\"../Models/model.pkl\", \"rb\") as f:\n",
    "    model = pickle.load(f)"
   ]
  },
  {
   "cell_type": "code",
   "execution_count": 2,
   "id": "dc8ac538-cb13-41d3-a4d8-8ec92ac2002e",
   "metadata": {},
   "outputs": [
    {
     "name": "stdout",
     "output_type": "stream",
     "text": [
      "Sentiment: Positive\n"
     ]
    }
   ],
   "source": [
    "#Predict\n",
    "\n",
    "new_text = [\"This is very good!\"]\n",
    "\n",
    "vector = vectorizer.transform(new_text)\n",
    "pred = model.predict(vector)\n",
    "\n",
    "print(\"Sentiment:\", \"Positive\" if pred[0] == 1 else \"Negative\")"
   ]
  }
 ],
 "metadata": {
  "kernelspec": {
   "display_name": "Python 3 (ipykernel)",
   "language": "python",
   "name": "python3"
  },
  "language_info": {
   "codemirror_mode": {
    "name": "ipython",
    "version": 3
   },
   "file_extension": ".py",
   "mimetype": "text/x-python",
   "name": "python",
   "nbconvert_exporter": "python",
   "pygments_lexer": "ipython3",
   "version": "3.8.19"
  }
 },
 "nbformat": 4,
 "nbformat_minor": 5
}
